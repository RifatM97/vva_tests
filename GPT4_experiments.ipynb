{
 "cells": [
  {
   "attachments": {},
   "cell_type": "markdown",
   "metadata": {},
   "source": [
    "# Experiments with GPT4 API\n",
    "\n",
    "This notebook contains experiments with GPT4 API. This is now available for users with an active credit card in OpenAI\n",
    "\n",
    "### OpenAI API"
   ]
  },
  {
   "cell_type": "code",
   "execution_count": 4,
   "metadata": {},
   "outputs": [],
   "source": [
    "import os\n",
    "import openai\n",
    "\n",
    "# import API key\n",
    "os.environ[\"OPENAI_API_KEY\"] = \"sk-opP....\"\n",
    "API_KEY = os.getenv(\"OPENAI_API_KEY\")\n",
    "openai.api_key = API_KEY\n",
    "openai.Model.retrieve(\"gpt-4\")\n",
    "\n",
    "model = \"gpt-4\""
   ]
  },
  {
   "cell_type": "code",
   "execution_count": 12,
   "metadata": {},
   "outputs": [
    {
     "data": {
      "text/plain": [
       "<OpenAIObject text_completion id=cmpl-7bSkL0kJEx100yRq1jeEytIvhEucg at 0x11f7b6f90> JSON: {\n",
       "  \"id\": \"cmpl-7bSkL0kJEx100yRq1jeEytIvhEucg\",\n",
       "  \"object\": \"text_completion\",\n",
       "  \"created\": 1689162993,\n",
       "  \"model\": \"text-davinci-003\",\n",
       "  \"choices\": [\n",
       "    {\n",
       "      \"text\": \"\\n\\nBirds do not have hands. They have wings instead.\",\n",
       "      \"index\": 0,\n",
       "      \"logprobs\": null,\n",
       "      \"finish_reason\": \"stop\"\n",
       "    }\n",
       "  ],\n",
       "  \"usage\": {\n",
       "    \"prompt_tokens\": 7,\n",
       "    \"completion_tokens\": 14,\n",
       "    \"total_tokens\": 21\n",
       "  }\n",
       "}"
      ]
     },
     "execution_count": 12,
     "metadata": {},
     "output_type": "execute_result"
    }
   ],
   "source": [
    "## API call - completion model (gpt4 supported only on Chat model)\n",
    "\n",
    "import os\n",
    "import openai\n",
    "openai.api_key = os.getenv(\"OPENAI_API_KEY\")\n",
    "openai.Completion.create(\n",
    "  model=\"text-davinci-003\",\n",
    "  prompt=\"How many hands do birds have?\",\n",
    "  max_tokens=20,\n",
    "  temperature=0\n",
    ")\n"
   ]
  },
  {
   "cell_type": "code",
   "execution_count": 13,
   "metadata": {},
   "outputs": [
    {
     "name": "stdout",
     "output_type": "stream",
     "text": [
      "Birds do not have hands. They have wings and feet.\n"
     ]
    }
   ],
   "source": [
    "import os\n",
    "import openai\n",
    "openai.api_key = os.getenv(\"OPENAI_API_KEY\")\n",
    "\n",
    "completion = openai.ChatCompletion.create(\n",
    "  model=\"gpt-4\",\n",
    "  messages=[\n",
    "    {\"role\": \"user\", \"content\": \"How many hands do birds have?\"}\n",
    "  ]\n",
    ")\n",
    "\n",
    "print(completion.choices[0].message.content)\n"
   ]
  },
  {
   "attachments": {},
   "cell_type": "markdown",
   "metadata": {},
   "source": [
    "### Predict future based on past knowledge\n",
    "\n",
    "Checking with both models.\n"
   ]
  },
  {
   "cell_type": "code",
   "execution_count": 17,
   "metadata": {},
   "outputs": [
    {
     "name": "stdout",
     "output_type": "stream",
     "text": [
      "As the winning team, Argentina's captain would have lifted the trophy during the final ceremony.\n"
     ]
    }
   ],
   "source": [
    "completion = openai.ChatCompletion.create(\n",
    "  model=\"gpt-3.5-turbo\",\n",
    "  messages=[\n",
    "    {\"role\": \"system\", \"content\": \"In 2022, the world cup has taken place. The winning team was Argentina.\"},\n",
    "    {\"role\": \"user\", \"content\":\"Can you tell me who might have lifted the trophy during the final cerimony?\"}\n",
    "\n",
    "  ]\n",
    ")\n",
    "\n",
    "print(completion.choices[0].message.content)"
   ]
  },
  {
   "cell_type": "code",
   "execution_count": 16,
   "metadata": {},
   "outputs": [
    {
     "name": "stdout",
     "output_type": "stream",
     "text": [
      "As an AI, I don't have the ability to predict future events and as of my last update in October 2021, I don't have the information about specific events in 2022. However, traditionally, the captain of the winning team usually lifts the trophy during the final ceremony. Assuming that hasn't changed in 2022 and if Argentina's present team remains consistent, most likely player to lift the trophy would be Argentina's captain Lionel Messi. Please verify from a reliable source for the most accurate and latest information.\n"
     ]
    }
   ],
   "source": [
    "\n",
    "completion = openai.ChatCompletion.create(\n",
    "  model=\"gpt-4\",\n",
    "  messages=[\n",
    "    {\"role\": \"system\", \"content\": \"In 2022, the world cup has taken place. The winning team was Argentina.\"},\n",
    "    {\"role\": \"user\", \"content\":\"Can you tell me who might have lifted the trophy during the final cerimony?\"}\n",
    "  ]\n",
    ")\n",
    "\n",
    "print(completion.choices[0].message.content)"
   ]
  },
  {
   "attachments": {},
   "cell_type": "markdown",
   "metadata": {},
   "source": [
    "### Langchain Framework"
   ]
  },
  {
   "cell_type": "code",
   "execution_count": 14,
   "metadata": {},
   "outputs": [
    {
     "name": "stdout",
     "output_type": "stream",
     "text": [
      "ChatBot replies: Birds do not have hands. They have wings and feet.\n"
     ]
    },
    {
     "data": {
      "text/plain": [
       "'Birds do not have hands. They have wings and feet.'"
      ]
     },
     "execution_count": 14,
     "metadata": {},
     "output_type": "execute_result"
    }
   ],
   "source": [
    "from langchain.chains.question_answering import load_qa_chain\n",
    "from langchain.chat_models import ChatOpenAI\n",
    "from langchain import PromptTemplate\n",
    "from langchain.chains import LLMChain\n",
    "\n",
    "def llm_response2query(query):\n",
    "\n",
    "    # initilise LLM from OpenAI in chain,\n",
    "    llm = ChatOpenAI(temperature=0.7, model=\"gpt-4\", openai_api_key=API_KEY)\n",
    "    # create prompt\n",
    "    prompt = PromptTemplate(\n",
    "    input_variables=['animal'],\n",
    "    template=\"How many hands do {animal} have?\"\n",
    "    )\n",
    "\n",
    "    chain = LLMChain(llm=llm, prompt=prompt)\n",
    "    answer = chain.run(query)\n",
    "    print(\"ChatBot replies:\", answer)\n",
    "\n",
    "\n",
    "llm_response2query(\"bird\")"
   ]
  },
  {
   "cell_type": "code",
   "execution_count": null,
   "metadata": {},
   "outputs": [],
   "source": []
  }
 ],
 "metadata": {
  "kernelspec": {
   "display_name": "vva_env",
   "language": "python",
   "name": "python3"
  },
  "language_info": {
   "codemirror_mode": {
    "name": "ipython",
    "version": 3
   },
   "file_extension": ".py",
   "mimetype": "text/x-python",
   "name": "python",
   "nbconvert_exporter": "python",
   "pygments_lexer": "ipython3",
   "version": "3.9.2"
  },
  "orig_nbformat": 4
 },
 "nbformat": 4,
 "nbformat_minor": 2
}
